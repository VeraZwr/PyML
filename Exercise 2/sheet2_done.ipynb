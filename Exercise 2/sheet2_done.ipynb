{
 "cells": [
  {
   "cell_type": "markdown",
   "metadata": {
    "collapsed": false
   },
   "source": [
    "## Required Acknowledgment of Academic Integrity\n",
    "\n",
    "Students must explicitly confirm to work on the homework individually without plagiarizing. **This mandatory confirmation is facilitated through a [digital form accessible on ISIS (link)](https://isis.tu-berlin.de/mod/choice/view.php?id=1702855):**\n",
    "\n",
    "Failure to comply with and explicitly acknowledge these guidelines will result in the nullification of the student's examination results. Students are only required to submit this affirmation once per semester."
   ]
  },
  {
   "cell_type": "markdown",
   "metadata": {
    "collapsed": false
   },
   "source": [
    "## Feedback\n",
    "\n",
    "Students can submit feedback for the course [via ISIS (link)](https://isis.tu-berlin.de/mod/feedback/view.php?id=1702849)."
   ]
  },
  {
   "attachments": {},
   "cell_type": "markdown",
   "metadata": {},
   "source": [
    "## Before you start working on the exercise\n",
    "\n",
    "- Use Python version 3.9 and above.\n",
    "- Make sure that no assertions fail or exceptions occur, otherwise points will be subtracted.\n",
    "- Use all the variables given to a function unless explicitly stated otherwise. If you are not using a variable you are doing something wrong.\n",
    "- Read the **whole** task description before starting with your solution.\n",
    "- After you submit the notebook more tests will be run on your code. The fact that no assertions fail on your computer locally does not guarantee that you completed the exercise correctly.\n",
    "- Please submit only the notebook file with its original name. If you do not submit an `ipynb` file you will fail the exercise.\n",
    "- Edit only between YOUR CODE HERE.\n",
    "- Verify that no syntax errors are present in the file.\n",
    "- Before uploading your submission, make sure everything runs as expected. First, restart the kernel (in the menubar, select Kernel\\Restart) and then run all cells (in the menubar, select Cell\\Run All)."
   ]
  },
  {
   "cell_type": "code",
   "execution_count": 2,
   "metadata": {},
   "outputs": [
    {
     "name": "stdout",
     "output_type": "stream",
     "text": [
      "Correct Python version\n"
     ]
    }
   ],
   "source": [
    "import sys\n",
    "\n",
    "if (3, 9) <= sys.version_info[:2] <= (3, 11):\n",
    "    print(\"Correct Python version\")\n",
    "else:\n",
    "    print(\n",
    "        f\"You are using a wrong version of Python: {'.'.join(map(str,sys.version_info[:3]))}\"\n",
    "    )"
   ]
  },
  {
   "cell_type": "markdown",
   "metadata": {},
   "source": [
    "# Exercise Sheet 2: Timing, Numpy, Plotting\n",
    "\n",
    "The previous exercise sheet introduced several methods for classification: decision trees, nearest neighbors, and nearest means. Of those, the one that could learn from the data, and that also offered enough complexity to produce an accurate decision function was k-nearest neighbors. However, nearest neighbors can be slow when implemented in pure Python (i.e. with loops). This is especially the case when the number of data points or input dimensions is large.\n",
    "\n",
    "In this exercise sheet, we will speed up nearest neighbors by utilizing `numpy`, `scipy` and `scikit-learn` (sklearn) packages. Your task will be to **replace list-based operations by vector-based operations** between numpy arrays. The speed and correctness of the implementations will then be tested. In particular, performance graphs will be drawn using the library `matplotlib`.\n",
    "\n",
    "Make sure to have installed all the required packages (numpy, scipy, sklearn, matplotlib). For this you can use `conda install <package>` or `pip install <package>`.\n",
    "\n",
    "e.g. (-U will upgrade the package version if already installed)\n",
    "\n",
    "`pip install -U numpy scipy scikit-learn matplotlib`"
   ]
  },
  {
   "cell_type": "code",
   "execution_count": 3,
   "metadata": {},
   "outputs": [
    {
     "name": "stdout",
     "output_type": "stream",
     "text": [
      "Please install numpy, scipy, scikit-learn and matplotlib using the instructions above.\n"
     ]
    }
   ],
   "source": [
    "def get_module_version_tuple(module):\n",
    "    return tuple(map(int, module.__version__.split(\".\")))\n",
    "\n",
    "try:\n",
    "    import numpy\n",
    "    import scipy\n",
    "    import sklearn\n",
    "    import matplotlib\n",
    "except ImportError:\n",
    "    print(\n",
    "        \"Please install numpy, scipy, scikit-learn and matplotlib using the instructions above.\"\n",
    "    )\n",
    "else:\n",
    "    numpy_version = get_module_version_tuple(numpy)\n",
    "    scipy_version = get_module_version_tuple(scipy)\n",
    "    sklearn_version = get_module_version_tuple(sklearn)\n",
    "    matplotlib_version = get_module_version_tuple(matplotlib)\n",
    "    if numpy_version >= (1, 24, 0):\n",
    "        print(f\"NumPy version ok! {numpy_version}\")\n",
    "    else:\n",
    "        print(f\"Your NumPy version is too old!!! {numpy_version}\")\n",
    "\n",
    "    if scipy_version >= (1, 11, 0):\n",
    "        print(f\"SciPy version ok! {scipy_version}\")\n",
    "    else:\n",
    "        print(f\"Your SciPy version is too old!!! {scipy_version}\")\n",
    "\n",
    "    if sklearn_version >= (1, 3, 0):\n",
    "        print(f\"sklearn version ok! {sklearn_version}\")\n",
    "    else:\n",
    "        print(f\"Your sklearn version is too old!!! {sklearn_version}\")\n",
    "\n",
    "    if matplotlib_version >= (3, 6, 0):\n",
    "        print(f\"matplotlib version ok! {matplotlib_version}\")\n",
    "    else:\n",
    "        print(f\"Your matplotlib version is too old!!! {sklearn_version}\")"
   ]
  },
  {
   "cell_type": "code",
   "execution_count": 4,
   "metadata": {
    "deletable": false,
    "editable": false,
    "nbgrader": {
     "cell_type": "code",
     "checksum": "5eeabd7052b6d3a16583cb4f64a82526",
     "grade": true,
     "grade_id": "cell-171de2800277d76a",
     "locked": true,
     "points": 0,
     "schema_version": 3,
     "solution": false,
     "task": false
    }
   },
   "outputs": [],
   "source": [
    "# This cell is for grading. DO NOT remove it\n",
    "\n",
    "# Use unittest asserts\n",
    "import unittest\n",
    "\n",
    "t = unittest.TestCase()\n",
    "from pprint import pprint\n",
    "from minified import max_allowed_loops, no_imports, no_loops_allowed\n"
   ]
  },
  {
   "attachments": {},
   "cell_type": "markdown",
   "metadata": {
    "deletable": false,
    "editable": false,
    "nbgrader": {
     "cell_type": "markdown",
     "checksum": "a25f4661fdecf0385000533f93892223",
     "grade": false,
     "grade_id": "cell-dcb35deb0f0fe3e5",
     "locked": true,
     "schema_version": 3,
     "solution": false,
     "task": false
    }
   },
   "source": [
    "# Warm Ups\n",
    "\n",
    "Before starting the homework sheet we recommend you finish these warm-up tasks. You will not receive any points for them but they should help you get familiar with NumPy concepts."
   ]
  },
  {
   "cell_type": "code",
   "execution_count": 5,
   "metadata": {
    "deletable": false,
    "editable": false,
    "nbgrader": {
     "cell_type": "code",
     "checksum": "8c6cfda8f9725f04c5214d5b5a221410",
     "grade": false,
     "grade_id": "cell-f19ed95518fb539c",
     "locked": true,
     "schema_version": 3,
     "solution": false,
     "task": false
    }
   },
   "outputs": [],
   "source": [
    "import numpy as np\n",
    "\n",
    "np.random.seed(0)  # seed for reproducibility\n",
    "\n",
    "x1 = np.random.randint(10, size=6)  # random one-dimensional integer array\n",
    "x2 = np.random.randint(10, size=(5, 4))  # random two-dimensional integer array"
   ]
  },
  {
   "cell_type": "markdown",
   "metadata": {
    "deletable": false,
    "editable": false,
    "nbgrader": {
     "cell_type": "markdown",
     "checksum": "74e40da35c11fb577e2d2a790f4a1bcb",
     "grade": false,
     "grade_id": "cell-shape",
     "locked": true,
     "schema_version": 3,
     "solution": false,
     "task": false
    }
   },
   "source": [
    "### Shape of an Array (0 P)\n",
    "\n",
    "Write a function that returns the number of rows and the number of columns of an array. If the array is one-dimensional, the function should assume that it is a row and the columns should be 0.\n",
    "\n",
    "* Use the attribute `.shape` that every numpy array has."
   ]
  },
  {
   "cell_type": "code",
   "execution_count": 19,
   "metadata": {
    "deletable": false,
    "nbgrader": {
     "cell_type": "code",
     "checksum": "e8e504e4ca7972217ab0e27018ceb9f5",
     "grade": false,
     "grade_id": "cell-e07664db9c1ef581",
     "locked": false,
     "schema_version": 3,
     "solution": true,
     "task": false
    }
   },
   "outputs": [],
   "source": [
    "def array_shape(array):\n",
    "    # YOUR CODE HERE\n",
    "    if array.ndim == 1:\n",
    "        number_of_columns = 0\n",
    "    else:\n",
    "        number_of_columns = array.shape[1]\n",
    "    number_of_rows = array.shape[0]\n",
    "    # YOUR CODE HERE\n",
    "    \n",
    "    return number_of_rows, number_of_columns"
   ]
  },
  {
   "cell_type": "code",
   "execution_count": 20,
   "metadata": {
    "deletable": false,
    "editable": false,
    "nbgrader": {
     "cell_type": "code",
     "checksum": "48f58a5ef6f7e94f4b5c7947c4393e07",
     "grade": true,
     "grade_id": "cell-66ed740c21d7b0da",
     "locked": true,
     "points": 0,
     "schema_version": 3,
     "solution": false,
     "task": false
    }
   },
   "outputs": [],
   "source": [
    "# Test array_shape function\n",
    "x1_number_of_rows, x1_number_of_columns = array_shape(x1)\n",
    "x2_number_of_rows, x2_number_of_columns = array_shape(x2)\n",
    "\n",
    "t.assertEqual(x1_number_of_rows, 6)\n",
    "t.assertEqual(x1_number_of_columns, 0)\n",
    "t.assertEqual(x2_number_of_rows, 5)\n",
    "t.assertEqual(x2_number_of_columns, 4)"
   ]
  },
  {
   "cell_type": "markdown",
   "metadata": {
    "deletable": false,
    "editable": false,
    "nbgrader": {
     "cell_type": "markdown",
     "checksum": "b28feb8575d39c258aae28e7c4b21e44",
     "grade": false,
     "grade_id": "cell-indexing",
     "locked": true,
     "schema_version": 3,
     "solution": false,
     "task": false
    }
   },
   "source": [
    "### Indexing (0 P)\n",
    "\n",
    "Return subarrays of the given arrays according to the conditions. Use array indexing e.g. `x1[1:5:-2]` instead of  loops or hardcoding the solutions.\n",
    "\n",
    "* Save the second to last element of `x1` in the variable `x1_second_to_last`.\n",
    "* Save a subarray that has every other element of `x1` in the variable `x1_every_other_element`.\n",
    "* Save a reversed `x1` in the variable `x1_reversed`.\n",
    "* Save the element in row 3 and column 2 of `x2` in the variable `x2_element_in_row_3_and_column_2`. Please note that since indexing starts at zero so row 3 is actually the forth row.\n",
    "* Save a subarray/matrix that contains rows 2 to 4 and columns 0 to 3 of `x2` in the variable `x2_rows_2_to_4_columns_0_to_3`. In this case row 4 and column 3 should be INCLUDED.\n",
    "\n",
    "Try **not** to use the shape or length of an array for this exercise"
   ]
  },
  {
   "cell_type": "code",
   "execution_count": 41,
   "metadata": {
    "deletable": false,
    "nbgrader": {
     "cell_type": "code",
     "checksum": "96df9c504008de407255cf2488bbc2bb",
     "grade": false,
     "grade_id": "cell-89d11e075e720162",
     "locked": false,
     "schema_version": 3,
     "solution": true,
     "task": false
    }
   },
   "outputs": [],
   "source": [
    "# Do not hard code the results of the following tasks, but use the numpy functions or indexing instead.\n",
    "# YOUR CODE HERE\n",
    "x1_second_to_last = x1[-2]\n",
    "x1_every_other_element = x1[::2]\n",
    "x1_reversed = x1[::-1]\n",
    "x2_element_in_row_3_and_column_2 = x2[3, 2]\n",
    "x2_rows_2_to_4_columns_0_to_3 = x2[2:5, :4]\n",
    "# YOUR CODE HERE\n"
   ]
  },
  {
   "cell_type": "code",
   "execution_count": 43,
   "metadata": {
    "deletable": false,
    "editable": false,
    "nbgrader": {
     "cell_type": "code",
     "checksum": "58274d92bbae4899f417eaeac05a0d93",
     "grade": true,
     "grade_id": "cell-3c1afc7af5cfe5b6",
     "locked": true,
     "points": 0,
     "schema_version": 3,
     "solution": false,
     "task": false
    }
   },
   "outputs": [],
   "source": [
    "# Test indexing solutions\n",
    "t.assertEqual(x1_second_to_last, 7)\n",
    "np.testing.assert_allclose(x1_every_other_element, np.array((5, 3, 7)))\n",
    "np.testing.assert_allclose(x1_reversed, np.array((9, 7, 3, 3, 0, 5)))\n",
    "t.assertEqual(x2_element_in_row_3_and_column_2, 5)\n",
    "np.testing.assert_allclose(\n",
    "    x2_rows_2_to_4_columns_0_to_3, np.array(((1, 6, 7, 7), (8, 1, 5, 9), (8, 9, 4, 3)))\n",
    ")"
   ]
  },
  {
   "cell_type": "markdown",
   "metadata": {
    "deletable": false,
    "editable": false,
    "nbgrader": {
     "cell_type": "markdown",
     "checksum": "e4466824a9fe663d92e660dbac985ffb",
     "grade": false,
     "grade_id": "cell-broadcasting",
     "locked": true,
     "schema_version": 3,
     "solution": false,
     "task": false
    }
   },
   "source": [
    "### Broadcasting (0 P)\n",
    "\n",
    "Understanding broadcasting is an important part of understanding numpy.\n",
    "\n",
    "* Using `np.newaxis`, turn `array_a` into a column-vector and save the result in the variable `array_a_to_column_vector`.\n",
    "* Add the one-dimensional `array_a` and the two dimensional `array_b` together. Do not use any function and only the `+` operator.\n",
    "* Add the one-dimensional `array_a` and the two dimensional `array_c` together. Now it is important to use broadcasting since the dimensions of the two arrays do not match: `array_a.shape = (3,)` and `array_c.shape = (3,2).` Addition would work if the shape of `array_a` would be `(3,1)`."
   ]
  },
  {
   "cell_type": "code",
   "execution_count": 55,
   "metadata": {
    "deletable": false,
    "editable": false,
    "nbgrader": {
     "cell_type": "code",
     "checksum": "f4331be17882d3a4d1b1726a11f76f59",
     "grade": false,
     "grade_id": "cell-a36dc615004cfd09",
     "locked": true,
     "schema_version": 3,
     "solution": false,
     "task": false
    }
   },
   "outputs": [
    {
     "name": "stdout",
     "output_type": "stream",
     "text": [
      "[1. 1. 1.]\n"
     ]
    }
   ],
   "source": [
    "array_a = np.ones(3)\n",
    "array_b = np.arange(6).reshape((2, 3))\n",
    "array_c = np.arange(6).reshape((3, 2))"
   ]
  },
  {
   "cell_type": "code",
   "execution_count": 58,
   "metadata": {
    "deletable": false,
    "nbgrader": {
     "cell_type": "code",
     "checksum": "d99a310d1ff00eba6b3706421e219e2f",
     "grade": false,
     "grade_id": "cell-d57ff98895236755",
     "locked": false,
     "schema_version": 3,
     "solution": true,
     "task": false
    }
   },
   "outputs": [],
   "source": [
    "# YOUR CODE HERE\n",
    "array_a_to_column_vector = array_a[:, np.newaxis]\n",
    "#print(array_a_to_column_vector)\n",
    "array_a_plus_array_b = array_a + array_b\n",
    "#array_a_plus_array_c = array_a + array_c\n",
    "array_a_plus_array_c = array_a_to_column_vector+ array_c\n",
    "# YOUR CODE HERE\n"
   ]
  },
  {
   "cell_type": "code",
   "execution_count": 59,
   "metadata": {
    "deletable": false,
    "editable": false,
    "nbgrader": {
     "cell_type": "code",
     "checksum": "ffd110b5d7f5ee22ce306c8766804c4f",
     "grade": true,
     "grade_id": "cell-cc2f5a56943f08eb",
     "locked": true,
     "points": 0,
     "schema_version": 3,
     "solution": false,
     "task": false
    }
   },
   "outputs": [],
   "source": [
    "# Test broadcasting solutions\n",
    "np.testing.assert_allclose(array_a_to_column_vector, np.ones(3).reshape(3, 1))\n",
    "np.testing.assert_allclose(array_a_plus_array_b, np.array(((1, 2, 3), (4, 5, 6))))\n",
    "np.testing.assert_allclose(array_a_plus_array_c, np.array(((1, 2), (3, 4), (5, 6))))"
   ]
  },
  {
   "cell_type": "markdown",
   "metadata": {},
   "source": [
    "### Broadcasting rules\n",
    "\n",
    "As mentioned in the lecture, broadcasting is a very powerful tool in numpy. It is therefore very helpful to understand the rules numpy follows when applying broadcasting.\n",
    "\n",
    "Refer to the numpy broadcasting documtation if you are unsure as to how broadcasting is applied: https://numpy.org/doc/stable/user/basics.broadcasting.html\n",
    "\n",
    "The next cell will help us gain a better understanding of broadcasting and its rules. Fill in the variables with names `result_X` with the result of what the broadcasting operation of the two above shapes would be. If an error occurs, fill in `\"error\"` instead."
   ]
  },
  {
   "cell_type": "code",
   "execution_count": 71,
   "metadata": {
    "deletable": false,
    "editable": false,
    "nbgrader": {
     "cell_type": "code",
     "checksum": "a54b16e839528b63cf33dddf280291d7",
     "grade": false,
     "grade_id": "cell-f5c13121f248ea44",
     "locked": true,
     "schema_version": 3,
     "solution": false,
     "task": false
    }
   },
   "outputs": [],
   "source": [
    "shape_1_1 = (2, 3)\n",
    "shape_1_2 = (2, 1)\n",
    "\n",
    "shape_2_1 = (100, 3)\n",
    "shape_2_2 = (300, 3)\n",
    "\n",
    "\n",
    "shape_3_1 = (100, 3)\n",
    "shape_3_2 = (300, 1, 3)\n",
    "\n",
    "shape_4_1 =   (1,2,2,4,5)\n",
    "shape_4_2 = (1,1,2,1,1,1)"
   ]
  },
  {
   "cell_type": "code",
   "execution_count": 82,
   "metadata": {
    "deletable": false,
    "nbgrader": {
     "cell_type": "code",
     "checksum": "f4e07f3804a33800622750bcdcd3a441",
     "grade": false,
     "grade_id": "cell-d744e30c0a9c2b07",
     "locked": false,
     "schema_version": 3,
     "solution": true,
     "task": false
    }
   },
   "outputs": [],
   "source": [
    "# YOUR CODE HERE\n",
    "result_1 = (2,3)\n",
    "result_2 = \"error\"\n",
    "result_3 = (300,100,3)\n",
    "result_4 = (1,1,2,2,4,5)\n",
    "\n",
    "# YOUR CODE HERE\n"
   ]
  },
  {
   "cell_type": "code",
   "execution_count": 83,
   "metadata": {
    "deletable": false,
    "editable": false,
    "nbgrader": {
     "cell_type": "code",
     "checksum": "c15f7e9f48f2067019dfe3666062c898",
     "grade": true,
     "grade_id": "cell-5b408e90f9371b43",
     "locked": true,
     "points": 0,
     "schema_version": 3,
     "solution": false,
     "task": false
    }
   },
   "outputs": [],
   "source": [
    "t.assertEqual(result_1, np.broadcast_shapes(shape_1_1, shape_1_2))\n",
    "t.assertEqual(result_2, \"error\")\n",
    "t.assertEqual(result_3, np.broadcast_shapes(shape_3_1, shape_3_2))\n",
    "t.assertEqual(result_4, np.broadcast_shapes(shape_4_1, shape_4_2))"
   ]
  },
  {
   "cell_type": "markdown",
   "metadata": {},
   "source": [
    "## Python Nearest Neighbor\n",
    "\n",
    "The most basic element of computation of nearest neighbors is its distance function relating two arbitrary data points `x1` and `x2`. We assume that these points are iterable (i.e. we can use a loop over their dimensions). One way among others to compute the **square** Euclidean distance between two points is by computing the sum of the component-wise distances."
   ]
  },
  {
   "cell_type": "code",
   "execution_count": null,
   "metadata": {},
   "outputs": [],
   "source": []
  },
  {
   "cell_type": "code",
   "execution_count": 85,
   "metadata": {
    "deletable": false,
    "editable": false,
    "nbgrader": {
     "cell_type": "code",
     "checksum": "8adc0b5f81a335620964a4a0978dc637",
     "grade": false,
     "grade_id": "cell-1b37d48b31ec0e79",
     "locked": true,
     "schema_version": 3,
     "solution": false
    }
   },
   "outputs": [],
   "source": [
    "def pydistance(x1, x2):\n",
    "    \"\"\"\n",
    "    Calculates the square euclidean distance between two data points x1, x2\n",
    "\n",
    "    Args:\n",
    "        x1, x2: Two vectors (ndim=1) for which we want to calculate the distance\n",
    "            `len(x1) == len(x2)` will always be True\n",
    "\n",
    "    Returns:\n",
    "        float: The square euclidean distance between the two vectors\n",
    "    \"\"\"\n",
    "    assert len(x1) == len(x2)\n",
    "    return sum((x1d - x2d) ** 2 for x1d, x2d in zip(x1, x2))"
   ]
  },
  {
   "cell_type": "code",
   "execution_count": 86,
   "metadata": {
    "deletable": false,
    "editable": false,
    "nbgrader": {
     "cell_type": "code",
     "checksum": "988e75f0baeff10ab908f0051c75b9fa",
     "grade": false,
     "grade_id": "cell-ff985f08d0627b23",
     "locked": true,
     "schema_version": 3,
     "solution": false,
     "task": false
    }
   },
   "outputs": [
    {
     "name": "stdout",
     "output_type": "stream",
     "text": [
      "pydistance([1, 4, 3, 2], [1, 4, 3, 2]) --> 0\n",
      "pydistance([1, 4, 3, 2], [4, 8, -2, 2]) --> 50\n"
     ]
    }
   ],
   "source": [
    "x1, x2 = [1, 4, 3, 2], [4, 8, -2, 2]\n",
    "print(f\"pydistance({x1}, {x1}) --> {pydistance(x1, x1)}\")\n",
    "print(f\"pydistance({x1}, {x2}) --> {pydistance(x1, x2)}\")"
   ]
  },
  {
   "cell_type": "markdown",
   "metadata": {},
   "source": [
    "where we use the prefix \"`py-`\" of the function to indicate that the latter makes use of pure `Python` instead of `numpy`. Once the distance matrix has been implemented, the nearest neighbor for a given unlabeled point `u` that we would like to classify is obtained by iterating over all points in the training set `(X, Y)`, selecting the point with smallest distance to `u`, and returning its corresponding label. Here `X` denotes the list of inputs in the training set and `Y` denotes the list of labels."
   ]
  },
  {
   "cell_type": "code",
   "execution_count": 88,
   "metadata": {
    "deletable": false,
    "editable": false,
    "nbgrader": {
     "cell_type": "code",
     "checksum": "389476ad9830b848ebd05b639e9dde84",
     "grade": false,
     "grade_id": "cell-66259b233d864979",
     "locked": true,
     "schema_version": 3,
     "solution": false
    }
   },
   "outputs": [],
   "source": [
    "def pynearest(u, X, Y, distance=pydistance):\n",
    "    \"\"\"\n",
    "    Applies the nearest neighbour to the input `u`\n",
    "    with training set `X` and labels `Y`. The\n",
    "    distance metric can be specified using the\n",
    "    `distance` argument.\n",
    "\n",
    "    Args:\n",
    "        u: The input vector for which we want a prediction\n",
    "        X: A 2 dimensional list containing the trainnig set\n",
    "        Y: A list containing the labels for each vector in the training set\n",
    "        distance: The distance metric. By default the `pydistance` function\n",
    "\n",
    "    Returns:\n",
    "        int: The label of the closest datapoint to u in X\n",
    "    \"\"\"\n",
    "    _, closest_point_label = min(zip(X, Y), key=lambda xy: distance(u, xy[0]))\n",
    "    return closest_point_label"
   ]
  },
  {
   "cell_type": "markdown",
   "metadata": {},
   "source": [
    "Note that this function either uses function `pydistance` (given as default if the argument distance is not specified). Or one could specify as argument a more optimized function for distance compuation, for example, one that uses `numpy`. Finally, one might not be interested in classifying a single point, but many of them. The method below receives a collection of such unlabeled test points stored in the variable `U`. The function returns a list of predictions associated to each test point."
   ]
  },
  {
   "cell_type": "code",
   "execution_count": 89,
   "metadata": {
    "deletable": false,
    "editable": false,
    "nbgrader": {
     "cell_type": "code",
     "checksum": "3bc0c1220b6be71c525a1dc2afef68d4",
     "grade": false,
     "grade_id": "cell-1673d3f81bce46ae",
     "locked": true,
     "schema_version": 3,
     "solution": false
    }
   },
   "outputs": [],
   "source": [
    "def pybatch(U, X, Y, nearest=pynearest, distance=pydistance):\n",
    "    \"\"\"\n",
    "    Applies the nearest neighbor algorithm, to all the datapoints\n",
    "    `u` $\\in$ `U`, with `X` the training set and `Y` the labels.\n",
    "    Both the distance metric and the method of finding the\n",
    "    neearest neighbor can be specified.\n",
    "\n",
    "    Args:\n",
    "        U: List of vectors for which a prediction is desired.\n",
    "        X: A 2 dimensional list containing the trainnig set\n",
    "        Y: A list containing the labels for each vector in the training set\n",
    "        nearest: The method by which the nearest neighbor search happens.\n",
    "        distance: The distance metric. By default the `pydistance` function\n",
    "\n",
    "    Returns:\n",
    "        A list of predicted labels for each `u` $\\in$ `U`\n",
    "    \"\"\"\n",
    "    return [nearest(u, X, Y, distance=distance) for u in U]"
   ]
  },
  {
   "cell_type": "markdown",
   "metadata": {
    "deletable": false,
    "editable": false,
    "nbgrader": {
     "cell_type": "markdown",
     "checksum": "945dd762c5dc7444a0c1c781f4ad1388",
     "grade": false,
     "grade_id": "cell-135aa27802ed5903",
     "locked": true,
     "schema_version": 3,
     "solution": false,
     "task": false
    }
   },
   "source": [
    "Again, such function uses by default the Python nearest neighbor search (with a specified distance function). However, we can also specified a more optimized nearest neighbor function, for example, based on `numpy`. Finally, one could consider an alternative function to `pybatch` that would use `numpy` from the beginning to the end. The implementation of such more optimized functions, and the testing of their correct behavior and higher performance will be the objective of this exercise sheet."
   ]
  },
  {
   "cell_type": "markdown",
   "metadata": {
    "deletable": false,
    "editable": false,
    "nbgrader": {
     "cell_type": "markdown",
     "checksum": "9aebdb6c01e4c84f6b3c02f416e31534",
     "grade": false,
     "grade_id": "cell-14a3ae199f89a93b",
     "locked": true,
     "schema_version": 3,
     "solution": false,
     "task": false
    }
   },
   "source": [
    "## Testing and correctness\n",
    "\n",
    "As a starting point, the code below tests the output of the nearest neighbor algorithm for some toy dataset with fixed parameters. In particular, the function `data.toy(M,N,d)` generates a problem with `M` unlabeled test points stored in a matrix `U` of size `(M x d)`, then `N` labeled training points stored in a matrix `X` of size `(N x d)` and the output label is stored in a vector `Y` of size `N` composed of zeros and ones encoding the two possible classes. The variable `d` denotes the number of dimensions of each point. The toy dataset is pseudo-random, that is, for fixed parameters, it produce a random-looking dataset, but every time the method is called with the same parameters, the dataset is the same. The pseudo-randomness property will be useful to verify that each nearest neighbor implementation performs the same overall computation. Please check the `data.py` file within the exercise folder for the implementation details. "
   ]
  },
  {
   "cell_type": "code",
   "execution_count": 90,
   "metadata": {
    "deletable": false,
    "editable": false,
    "nbgrader": {
     "cell_type": "code",
     "checksum": "3610c8fd1416af6382466318cde714ca",
     "grade": false,
     "grade_id": "cell-79632e7653dd78cc",
     "locked": true,
     "schema_version": 3,
     "solution": false
    }
   },
   "outputs": [
    {
     "name": "stdout",
     "output_type": "stream",
     "text": [
      "Shape of U (unlabeled datapoints): (20, 50)\n",
      "Shape of X (training set): (100, 50)\n",
      "Shape of Y (labels): (100,)\n",
      "Predictions: [1, 1, 1, 0, 0, 1, 0, 1, 1, 0, 1, 1, 1, 0, 1, 0, 1, 1, 1, 0]\n"
     ]
    }
   ],
   "source": [
    "try:\n",
    "    import data\n",
    "except ImportError:\n",
    "    print(\"\\n\\nDid you download the 'data.py' file from ISIS?\\n\\n\")\n",
    "    raise\n",
    "\n",
    "U, X, Y = data.toy(20, 100, 50)\n",
    "\n",
    "print(f\"Shape of U (unlabeled datapoints): {U.shape}\")\n",
    "print(f\"Shape of X (training set): {X.shape}\")\n",
    "print(f\"Shape of Y (labels): {Y.shape}\")\n",
    "print(f\"Predictions: {pybatch(U, X, Y)}\")"
   ]
  },
  {
   "cell_type": "markdown",
   "metadata": {},
   "source": [
    "In particular, the output of this function will help us to verify that the more optimized `numpy`-based versions of nearest neighbor are still valid."
   ]
  },
  {
   "cell_type": "markdown",
   "metadata": {},
   "source": [
    "## Plotting and performance\n",
    "\n",
    "We now describe how to build a plot that relates a certain parameter of the dataset (e.g. the number of input dimensions `d` to the time required for the computation. We first initialize the basic plotting environment."
   ]
  },
  {
   "cell_type": "code",
   "execution_count": 94,
   "metadata": {
    "deletable": false,
    "editable": false,
    "nbgrader": {
     "cell_type": "code",
     "checksum": "3aa0bc4681fa55e88b9ae54931b51039",
     "grade": false,
     "grade_id": "cell-3e98261adc6d0079",
     "locked": true,
     "schema_version": 3,
     "solution": false,
     "task": false
    }
   },
   "outputs": [],
   "source": [
    "from matplotlib import pyplot as plt"
   ]
  },
  {
   "attachments": {},
   "cell_type": "markdown",
   "metadata": {},
   "source": [
    "The following code plots the computation time of predicting `100` points from the test set using a training set of size `100`, and where we vary the number of input dimensions. The measurement of time happens with the `timeit` module. `timeit` provides many convinience functions for benchmarking. In particular the repeat function runs the provided code many times and returns the time it took to run it. You can find more information about `repeat` [here](https://docs.python.org/3/library/timeit.html#timeit.repeat)"
   ]
  },
  {
   "cell_type": "code",
   "execution_count": 95,
   "metadata": {
    "deletable": false,
    "editable": false,
    "nbgrader": {
     "cell_type": "code",
     "checksum": "1bb953df74a58954ad1154a1a5abd933",
     "grade": false,
     "grade_id": "cell-46485712351bdfcf",
     "locked": true,
     "schema_version": 3,
     "solution": false
    }
   },
   "outputs": [
    {
     "data": {
      "image/png": "[encoded data removed]",
      "text/plain": [
       "<Figure size 500x300 with 1 Axes>"
      ]
     },
     "metadata": {},
     "output_type": "display_data"
    }
   ],
   "source": [
    "import timeit\n",
    "from statistics import mean\n",
    "\n",
    "# Values for the number of dimensions d to test\n",
    "dlist = [1, 2, 5, 10, 20, 50, 100, 200, 500]\n",
    "\n",
    "# Measure the computation time for each choice of number of dimensions d\n",
    "tlist = []\n",
    "for d in dlist:\n",
    "    U, X, Y = data.toy(100, 100, d)\n",
    "    # get the average of three runs\n",
    "    delta = mean(timeit.repeat(lambda: pybatch(U, X, Y), number=1, repeat=3))\n",
    "    tlist.append(delta)\n",
    "\n",
    "# Create new figure\n",
    "fig = plt.figure(figsize=(5, 3))\n",
    "# Plot values\n",
    "plt.plot(dlist, tlist, \"-o\")\n",
    "# Add labels\n",
    "plt.xlabel(\"d\")\n",
    "plt.ylabel(\"time\")\n",
    "# Add grid\n",
    "plt.grid(True)\n",
    "# Set log scale\n",
    "plt.xscale(\"log\")\n",
    "plt.yscale(\"log\")"
   ]
  },
  {
   "cell_type": "markdown",
   "metadata": {},
   "source": [
    "The time on the vertical axis is in seconds. Note that the exact computation time depends on the speed of your computer. As expected, the computation time increases with the number of input dimensions. Unfortunately, for the small dataset considered here (`100` training and test points of `100` dimensions each), the algorithm already takes more than one second to execute. Thus, it is necessary for practical applications (e.g. the digit recognition task that we will consider at the end of this exercise sheet) to accelerate this nearest neighbor algorithm."
   ]
  },
  {
   "attachments": {},
   "cell_type": "markdown",
   "metadata": {},
   "source": [
    "## 1. Accelerating the distance computation (25 P)\n",
    "\n",
    "In this first exercise, we would like to accelerate the function that compute pairwise distances.\n",
    "\n",
    "**a)** Implement the function `npdistance(x1,x2)` with the same output as `pydistance(x1,x2)`, but that computes the squared Euclidean distance using `numpy` operations.\n",
    "\n",
    "Our goal with this exercise is to speed-up our code. In practice this means that we want to remove for loops from our code. Therefore if your implementation contains a `for loop` it will automatically be considered wrong and will receive 0 points. Similarlly Python functions that hide for loops such as `map` are also considered invalid for this exercise. Similarly, functions provided by numpy that \"hide\" for loops like [`vectorize`](https://docs.scipy.org/doc/numpy/reference/generated/numpy.vectorize.html) and [`apply_along_axis`](https://docs.scipy.org/doc/numpy/reference/generated/numpy.apply_along_axis.html) are also **not** to be used. Further the builtin function `sum` is not allowed to be used, however `np.sum` can be used.\n",
    "\n",
    "**Note**: The input vectors can be either `np.ndarray` or lists of `floats`."
   ]
  },
  {
   "cell_type": "code",
   "execution_count": 97,
   "metadata": {
    "deletable": false,
    "editable": false,
    "nbgrader": {
     "cell_type": "code",
     "checksum": "91933c169c296cd5adf4423f6c546c8d",
     "grade": false,
     "grade_id": "cell-fa1a467b96b2e24c",
     "locked": true,
     "schema_version": 3,
     "solution": false,
     "task": false
    }
   },
   "outputs": [],
   "source": [
    "import numpy as np"
   ]
  },
  {
   "cell_type": "code",
   "execution_count": 105,
   "metadata": {
    "deletable": false,
    "nbgrader": {
     "cell_type": "code",
     "checksum": "8e7535467c29df2cd3bd1f668459539a",
     "grade": false,
     "grade_id": "cell-19fc7493b2e8f798",
     "locked": false,
     "schema_version": 3,
     "solution": true
    }
   },
   "outputs": [],
   "source": [
    "@no_loops_allowed\n",
    "@no_imports\n",
    "def npdistance(x1, x2):\n",
    "    \"\"\"\n",
    "    Calculates the square euclidean distance between two data points x1, x2\n",
    "    using `numpy` vectorized operations\n",
    "\n",
    "    Args:\n",
    "        x1, x2: Two vectors (ndim=1) for which we want to calculate the distance\n",
    "        `len(x1) == len(x2)` will always be True\n",
    "\n",
    "    Returns:\n",
    "        float: The distance between the two vectors x1, x2\n",
    "    \"\"\"\n",
    "    # YOUR CODE HERE\n",
    "    #x1 = np.array(x1)\n",
    "    #x2 = np.array(x2)\n",
    "    assert len(x1) == len(x2)\n",
    "    return np.sum((np.array(x1)-np.array(x2))**2)\n",
    "    # YOUR CODE HERE\n",
    "    "
   ]
  },
  {
   "cell_type": "code",
   "execution_count": 106,
   "metadata": {
    "deletable": false,
    "editable": false,
    "nbgrader": {
     "cell_type": "code",
     "checksum": "7767298ead75c684d2294fbcd036a7b0",
     "grade": true,
     "grade_id": "cell-bf963bc80a4dfff6",
     "locked": true,
     "points": 20,
     "schema_version": 3,
     "solution": false
    }
   },
   "outputs": [
    {
     "name": "stdout",
     "output_type": "stream",
     "text": [
      "npdistance([0.0, -1.0, -2.0], [0.0, -1.0, -2.0]) --> 0.0\n",
      "\n",
      "npdistance([0.0, -1.0, -2.0], [2.0, 3.0, 4.0]) --> 56.0\n",
      "expected_dist --> 56.0\n",
      "\n",
      "no_numpy --> [1, 1, 1, 0, 0, 1, 0, 1, 1, 0, 1, 1, 1, 0, 1, 0, 1, 1, 1, 0]\n",
      "w_np_dist  --> [1, 1, 1, 0, 0, 1, 0, 1, 1, 0, 1, 1, 1, 0, 1, 0, 1, 1, 1, 0]\n"
     ]
    }
   ],
   "source": [
    "# Verify your function\n",
    "x1, x2 = [0.0, -1.0, -2.0], [2.0, 3.0, 4.0]\n",
    "\n",
    "dist_to_same = npdistance(x1, x1)\n",
    "print(f\"npdistance({x1}, {x1}) --> {dist_to_same}\\n\")\n",
    "expected_dist_to_same = 0.0\n",
    "t.assertAlmostEqual(\n",
    "    dist_to_same,\n",
    "    expected_dist_to_same,\n",
    "    msg=\"The distance of a vector to itself should be 0\",\n",
    ")\n",
    "\n",
    "\n",
    "dist = npdistance(x1, x2)\n",
    "print(f\"npdistance({x1}, {x2}) --> {dist}\")\n",
    "expected_dist = pydistance(x1, x2)\n",
    "print(f\"expected_dist --> {expected_dist}\\n\")\n",
    "t.assertAlmostEqual(dist, expected_dist)\n",
    "\n",
    "U, X, Y = data.toy(20, 100, 50)\n",
    "\n",
    "no_numpy = pybatch(U, X, Y, distance=pydistance)\n",
    "print(f\"no_numpy --> {no_numpy}\")\n",
    "\n",
    "w_np_dist = pybatch(U, X, Y, distance=npdistance)\n",
    "print(f\"w_np_dist  --> {w_np_dist}\")\n",
    "\n",
    "np.testing.assert_allclose(no_numpy, w_np_dist)\n",
    "\n",
    "npdistance.assert_no_imports()\n",
    "npdistance.assert_not_too_many_loops()"
   ]
  },
  {
   "cell_type": "markdown",
   "metadata": {},
   "source": [
    "**b)** Create a plot similar to the one above, but where the computation time required by both methods is shown in a superposed manner. Here, we fix `M=100`, `N=100`, and we let `d` vary from `1` to `500`, taking the list of values `[1, 2, 5, 10, 20, 50, 100, 200, 500]`. Your plot should show a quisi-constant runtime for the `pybatch` call using the `npdistance` function, compared to `pydistance`."
   ]
  },
  {
   "cell_type": "code",
   "execution_count": 108,
   "metadata": {},
   "outputs": [],
   "source": [
    "import matplotlib.pyplot as plt"
   ]
  },
  {
   "cell_type": "code",
   "execution_count": 111,
   "metadata": {
    "deletable": false,
    "nbgrader": {
     "cell_type": "code",
     "checksum": "35f36f252044ea0a86bf6fde93ece840",
     "grade": true,
     "grade_id": "cell-42315eeb7aedb147",
     "locked": false,
     "points": 5,
     "schema_version": 3,
     "solution": true,
     "task": false
    }
   },
   "outputs": [
    {
     "data": {
      "text/plain": [
       "<matplotlib.legend.Legend at 0x17d0ac2d0>"
      ]
     },
     "execution_count": 111,
     "metadata": {},
     "output_type": "execute_result"
    },
    {
     "data": {
      "image/png": "[encoded data removed]",
      "text/plain": [
       "<Figure size 500x300 with 1 Axes>"
      ]
     },
     "metadata": {},
     "output_type": "display_data"
    }
   ],
   "source": [
    "# YOUR CODE HERE\n",
    "import timeit\n",
    "from statistics import mean\n",
    "\n",
    "dlist = [1, 2, 5, 10, 20, 50, 100, 200, 500]\n",
    "M = 100\n",
    "N = 100\n",
    "tlist_npdistance = []\n",
    "tlist_pydistance = []\n",
    "\n",
    "for d in dlist:\n",
    "    U, X, Y = data.toy(M, N, d)\n",
    "    delta = mean(timeit.repeat(lambda: pybatch(U, X, Y, distance=npdistance), number=1, repeat=3))\n",
    "    tlist_npdistance.append(delta)\n",
    "    delta = mean(timeit.repeat(lambda: pybatch(U, X, Y, distance=pydistance), number=1, repeat=3))\n",
    "    tlist_pydistance.append(delta)\n",
    "\n",
    "fig = plt.figure(figsize=(5, 3))\n",
    "plt.plot(dlist, tlist_npdistance, \"-o\")\n",
    "plt.plot(dlist, tlist_pydistance, \"-o\")\n",
    "plt.xlabel(\"d\")\n",
    "plt.ylabel(\"time\")\n",
    "plt.grid(True)\n",
    "plt.xscale(\"log\")\n",
    "plt.yscale(\"log\")\n",
    "plt.legend([\"npdistance\", \"pydistance\"])\n",
    "# YOUR CODE HERE\n"
   ]
  },
  {
   "attachments": {},
   "cell_type": "markdown",
   "metadata": {},
   "source": [
    "## 2. Accelerating the nearest neighbor search (25 P)\n",
    "\n",
    "Motivated by the success of the `numpy` optimized distance computation, we would like further accelerate the code by performing nearest neighbor search directly in `numpy`.\n",
    "\n",
    "**a)** Implement the function `npnearest(u,X,Y)` as an alternative to the function `pynearest(u,X,Y,distance=npdistance)` that we have used in the previous exercise. Again, verify your function for the same toy example as before (i.e. `data.toy(20,100,50)`).\n",
    "\n",
    "Unlike `pynearest`, `npnearest` doesn't receive any distance argument. `npnearest` will work only with square eucledian distance. If you are confident that your `npdistance` implementation can work between a vector and a matrix, you are welcome to reuse it. It is however, perfectly acceptable to reimplement the distance algorithm in this function again.\n",
    "\n",
    "Once again the use of `for loops`, or functions like `map` or `np.vectorize` is stictly not allowed in this exercise."
   ]
  },
  {
   "cell_type": "code",
   "execution_count": 124,
   "metadata": {
    "deletable": false,
    "nbgrader": {
     "cell_type": "code",
     "checksum": "da7fa45124d2e113bad403c69db2e4d5",
     "grade": false,
     "grade_id": "cell-abf6acbfd89109a2",
     "locked": false,
     "schema_version": 3,
     "solution": true
    }
   },
   "outputs": [],
   "source": [
    "@no_loops_allowed\n",
    "@no_imports\n",
    "def npnearest(u, X, Y, *args, **kwargs):\n",
    "    \"\"\"\n",
    "    Finds x1 so that x1 is in X and u and x1 have a minimal distance compared to all other data points in X. Returns the label of x1\n",
    "\n",
    "    Args:\n",
    "        u: The vector (ndim=1) we want to classify\n",
    "        X: A matrix (ndim=2) with training data points (vectors)\n",
    "        Y: A vector containing the label of each data point in X\n",
    "        args, kwargs  : Ignored. Only for compatibility with pybatch\n",
    "\n",
    "    Returns:\n",
    "        The label of the data point which is closest to `u`\n",
    "    \"\"\"\n",
    "    # YOUR CODE HERE\n",
    "    x1 = X[np.argmin(np.sum((X-u)**2,axis=1))]\n",
    "    return Y[np.argmin(np.sum((X-u)**2,axis=1))]\n",
    "    # YOUR CODE HERE\n",
    "    "
   ]
  },
  {
   "cell_type": "code",
   "execution_count": 125,
   "metadata": {
    "deletable": false,
    "editable": false,
    "nbgrader": {
     "cell_type": "code",
     "checksum": "b3770212cffb985d7520177c789fa014",
     "grade": true,
     "grade_id": "cell-9621f0349d332a46",
     "locked": true,
     "points": 15,
     "schema_version": 3,
     "solution": false
    }
   },
   "outputs": [
    {
     "name": "stdout",
     "output_type": "stream",
     "text": [
      "u\n",
      "array([0.69646919, 0.28613933, 0.22685145])\n",
      "\n",
      "X\n",
      "array([[0.24875591, 0.16306678, 0.78364326],\n",
      "       [0.80852339, 0.62562843, 0.60411363],\n",
      "       [0.8857019 , 0.75911747, 0.18110506]])\n",
      "\n",
      "Y\n",
      "array([1, 0, 0])\n",
      "\n",
      "np_nearest --> 0\n",
      "expected_nearest --> 0\n"
     ]
    }
   ],
   "source": [
    "TINY_U, TINY_X, TINY_Y = data.toy(3, 3, 3)\n",
    "tiny_u = TINY_U[0]\n",
    "print(\"u\")\n",
    "pprint(tiny_u)\n",
    "print(\"\\nX\")\n",
    "pprint(TINY_X)\n",
    "print(\"\\nY\")\n",
    "pprint(TINY_Y)\n",
    "\n",
    "np_nearest = npnearest(tiny_u, TINY_X, TINY_Y)\n",
    "expected_nearest = pynearest(tiny_u, TINY_X, TINY_Y)\n",
    "print(f\"\\nnp_nearest --> {np_nearest}\")\n",
    "print(f\"expected_nearest --> {expected_nearest}\")\n",
    "\n",
    "t.assertEqual(expected_nearest, np_nearest)\n",
    "\n",
    "# Verify your function\n",
    "np.testing.assert_allclose(\n",
    "    pybatch(U, X, Y, nearest=pynearest), pybatch(U, X, Y, nearest=npnearest)\n",
    ")\n",
    "\n",
    "npnearest.assert_no_imports()\n",
    "npnearest.assert_not_too_many_loops()"
   ]
  },
  {
   "cell_type": "code",
   "execution_count": null,
   "metadata": {
    "deletable": false,
    "editable": false,
    "nbgrader": {
     "cell_type": "code",
     "checksum": "523d6ac920e9fb9625c32081558f716e",
     "grade": true,
     "grade_id": "cell-6d51db56056a74b0",
     "locked": true,
     "points": 0,
     "schema_version": 3,
     "solution": false,
     "task": false
    }
   },
   "outputs": [],
   "source": [
    "# This cell is for grading. DO NOT remove it"
   ]
  },
  {
   "cell_type": "markdown",
   "metadata": {
    "deletable": false,
    "editable": false,
    "nbgrader": {
     "cell_type": "markdown",
     "checksum": "9594e8bf9696a8b8325c94ff3a4a31e3",
     "grade": false,
     "grade_id": "cell-92654906e120fa42",
     "locked": true,
     "schema_version": 3,
     "solution": false,
     "task": false
    }
   },
   "source": [
    "**b)** Create a plot similar to the one above, where the new method is compared to the previous one. This means that you should compare the runtime of `npnearest` and `pynearest` with `npdistance` as its distance function. Here, we fix `M=100`, `d=100`, and we let `N` take different values `[1, 2, 5, 10, 20, 50, 100, 200, 500]`."
   ]
  },
  {
   "cell_type": "code",
   "execution_count": 132,
   "metadata": {
    "deletable": false,
    "nbgrader": {
     "cell_type": "code",
     "checksum": "32d751e344f35ddce4d74cec8cac878d",
     "grade": true,
     "grade_id": "cell-c0fdf389a1795330",
     "locked": false,
     "points": 10,
     "schema_version": 3,
     "solution": true,
     "task": false
    }
   },
   "outputs": [
    {
     "data": {
      "text/plain": [
       "<matplotlib.legend.Legend at 0x17d996610>"
      ]
     },
     "execution_count": 132,
     "metadata": {},
     "output_type": "execute_result"
    },
    {
     "data": {
      "image/png": "[encoded data removed]",
      "text/plain": [
       "<Figure size 500x300 with 1 Axes>"
      ]
     },
     "metadata": {},
     "output_type": "display_data"
    }
   ],
   "source": [
    "# YOUR CODE HERE\n",
    "import timeit\n",
    "from statistics import mean\n",
    "\n",
    "Nlist = [1, 2, 5, 10, 20, 50, 100, 200, 500]\n",
    "M = 100\n",
    "d = 100\n",
    "tlist_npnearest = []\n",
    "tlist_pynearest = []\n",
    "\n",
    "for N in Nlist:\n",
    "    U, X, Y = data.toy(M, N, d)\n",
    "    delta = mean(timeit.repeat(lambda: pybatch(U, X, Y, nearest=npnearest), number=1, repeat=3))\n",
    "    tlist_npnearest.append(delta)\n",
    "    delta = mean(timeit.repeat(lambda: pybatch(U, X, Y, nearest=pynearest), number=1, repeat=3))\n",
    "    tlist_pynearest.append(delta)\n",
    "\n",
    "fig = plt.figure(figsize=(5, 3))\n",
    "plt.plot(Nlist, tlist_npnearest, \"-o\")\n",
    "plt.plot(Nlist, tlist_pynearest, \"-o\")\n",
    "plt.xlabel(\"N\")\n",
    "plt.ylabel(\"time\")\n",
    "plt.grid(True)\n",
    "plt.xscale(\"log\")\n",
    "plt.yscale(\"log\")\n",
    "plt.legend([\"npnearest\", \"pynearest\"])\n",
    "# YOUR CODE HERE\n"
   ]
  },
  {
   "cell_type": "markdown",
   "metadata": {},
   "source": [
    "## 3. Accelerating the processing of multiple test points (25 P)\n",
    "\n",
    "Not yet fully happy with the performance of the algorithm, we would like to further optimize it by avoiding performing a loop on the test points, and instead, classify them all at once.\n",
    "\n",
    "**a) 15P** Implement the function `npbatch(U,X,Y)` as a replacement of the implementation `pybatch(U,X,Y,nearest=npnearest)` that we have built in the previous exercise. Inside this function, use [`scipy.spatial.distance.cdist`](https://docs.scipy.org/doc/scipy/reference/generated/scipy.spatial.distance.cdist.html) for the actual distance computation."
   ]
  },
  {
   "cell_type": "code",
   "execution_count": null,
   "metadata": {
    "deletable": false,
    "nbgrader": {
     "cell_type": "code",
     "checksum": "edab713e1a2ad387943c3e9ea4c8b8d4",
     "grade": false,
     "grade_id": "cell-58ebbd1ea052789a",
     "locked": false,
     "schema_version": 3,
     "solution": true
    }
   },
   "outputs": [],
   "source": [
    "import scipy\n",
    "\n",
    "\n",
    "@no_loops_allowed\n",
    "@no_imports\n",
    "def npbatch(U, X, Y, *args, **kwargs):\n",
    "    \"\"\"\n",
    "    This function has the same functionality as the `pybatch` function.\n",
    "    HOWEVER, the distance function is fixed (scipy.spatial.distance.cdist).\n",
    "    It does not use any of the functions defined by us previously.\n",
    "\n",
    "    Args:\n",
    "        U: A matrix (ndim=2) containing multiple vectors which we want to classify\n",
    "        X: A matrix (ndim=2) that represents the training data\n",
    "        Y: A vector (ndim=1) containing the labels for each data point in X\n",
    "\n",
    "        All other arguments are ignored. *args, **kwargs are only there for compatibility\n",
    "        with the `pybatch` function\n",
    "\n",
    "    Returns:\n",
    "        A vector (ndim=1) with the predicted label for each vector $u \\in U$\n",
    "    \"\"\"\n",
    "    # YOUR CODE HERE\n",
    "    raise NotImplementedError(\"Replace this line with your code\")\n",
    "    # YOUR CODE HERE\n",
    "    "
   ]
  },
  {
   "cell_type": "code",
   "execution_count": null,
   "metadata": {
    "deletable": false,
    "editable": false,
    "nbgrader": {
     "cell_type": "code",
     "checksum": "620f2f9814421bb0d38d8863729bb97a",
     "grade": true,
     "grade_id": "cell-bf7e49de5ebddbf3",
     "locked": true,
     "points": 15,
     "schema_version": 3,
     "solution": false
    }
   },
   "outputs": [],
   "source": [
    "print(\"U\")\n",
    "pprint(TINY_U)\n",
    "print(\"\\nX\")\n",
    "pprint(TINY_X)\n",
    "print(\"\\nY\")\n",
    "pprint(TINY_Y)\n",
    "\n",
    "expected_output = pybatch(TINY_U, TINY_X, TINY_Y)\n",
    "print(f\"\\nexpected_output --> {expected_output}\")\n",
    "actual_output = npbatch(TINY_U, TINY_X, TINY_Y)\n",
    "print(f\"actual_output --> {actual_output}\")\n",
    "np.testing.assert_allclose(expected_output, actual_output)\n",
    "\n",
    "U, X, Y = data.toy(20, 100, 50)\n",
    "np.testing.assert_allclose(pybatch(U, X, Y), npbatch(U, X, Y))\n",
    "\n",
    "npbatch.assert_no_imports()\n",
    "npbatch.assert_not_too_many_loops()\n"
   ]
  },
  {
   "cell_type": "code",
   "execution_count": null,
   "metadata": {
    "deletable": false,
    "editable": false,
    "nbgrader": {
     "cell_type": "code",
     "checksum": "5ef27726c3e192aa572b15381ddf9c7b",
     "grade": true,
     "grade_id": "cell-05474610b709fa64",
     "locked": true,
     "points": 0,
     "schema_version": 3,
     "solution": false,
     "task": false
    }
   },
   "outputs": [],
   "source": [
    "# This cell is for grading. DO NOT remove it"
   ]
  },
  {
   "cell_type": "markdown",
   "metadata": {},
   "source": [
    "**b) 10P** Create a plot comparing the computation time of the new implementation compared to the previous one. Here, we fix `N=100`, `d=100`, and we let `M` vary from `1` to `500` with values `[1, 2, 5, 10, 20, 50, 100, 200, 500]`."
   ]
  },
  {
   "cell_type": "code",
   "execution_count": null,
   "metadata": {
    "deletable": false,
    "nbgrader": {
     "cell_type": "code",
     "checksum": "0ba1bc919fef42eca50e061ef2acc4ab",
     "grade": true,
     "grade_id": "cell-6abe7c8024b632f8",
     "locked": false,
     "points": 10,
     "schema_version": 3,
     "solution": true
    }
   },
   "outputs": [],
   "source": [
    "# YOUR CODE HERE\n",
    "raise NotImplementedError(\"Replace this line with your code\")\n",
    "# YOUR CODE HERE\n"
   ]
  },
  {
   "cell_type": "markdown",
   "metadata": {
    "collapsed": true,
    "jupyter": {
     "outputs_hidden": true
    }
   },
   "source": [
    "## 4. Application to real-world data (25 P)\n",
    "\n",
    "Having now implemented an efficient K-nearest neighbor classifier, we can test it on real problems with many data points and dimensions. We consider a small handwritten digits recognition dataset, that can be directly obtained from the library `scikit-learn`. This dataset consists of handwritten digits of size `8 x 8` flattened into arrays of size `64`, with class between `0` and `9`. We use a function `data.digits()` to load the data and arrange data points in some predefined order."
   ]
  },
  {
   "cell_type": "code",
   "execution_count": null,
   "metadata": {
    "deletable": false,
    "editable": false,
    "nbgrader": {
     "cell_type": "code",
     "checksum": "b77c35d9a669b273ffebef47c9bf7e6a",
     "grade": false,
     "grade_id": "cell-0af1076e9b4ee47b",
     "locked": true,
     "schema_version": 3,
     "solution": false
    }
   },
   "outputs": [],
   "source": [
    "X, Y = data.digits()\n",
    "print(f\"Shape of data: {X.shape}\")\n",
    "print(f\"Shape of labels: {Y.shape}\")"
   ]
  },
  {
   "cell_type": "markdown",
   "metadata": {},
   "source": [
    "### Visualization of first datapoint\n",
    "\n",
    "In the following cell we will visualize the first datapoint in the dataset. This will serve as a demonstation as to how we can plot image data."
   ]
  },
  {
   "cell_type": "code",
   "execution_count": null,
   "metadata": {},
   "outputs": [],
   "source": [
    "first_image = X[0].reshape(8,8)\n",
    "plt.figure(figsize=(2,2))\n",
    "plt.imshow(first_image, cmap=\"Greys\")\n",
    "plt.title(f'The label of the first datapoint is {Y[0]}');"
   ]
  },
  {
   "cell_type": "markdown",
   "metadata": {},
   "source": [
    "**a) 10P** Using the function `imshow` of `matplotlib.pyplot (plt)` to visualize the first 16 digits (in a `4x4` grid) of the dataset. You get 8 points for a correct implementation and 2 points for an implementation that doesn't use any for loops. For clarity's sake, unrolling a loop is still considered using a loop.\n",
    "\n",
    "**Hint**: Use the `np.traspose` and `np.reshape` functions, to implement the function without any loops.\n",
    "\n",
    "**Note**: Your solution should output exactly one plot and shouldn't create new figures i.e. call `plt.show` or use `plt.figure` in a loop."
   ]
  },
  {
   "cell_type": "code",
   "execution_count": null,
   "metadata": {
    "deletable": false,
    "nbgrader": {
     "cell_type": "code",
     "checksum": "52a9b30cc91319335e890cc6dc4e8cfe",
     "grade": true,
     "grade_id": "cell-62a66170b487f137",
     "locked": false,
     "points": 8,
     "schema_version": 3,
     "solution": true
    }
   },
   "outputs": [],
   "source": [
    "@max_allowed_loops(1)  # but try to use 0\n",
    "@no_imports\n",
    "def plot_first_digits():\n",
    "    \"\"\"\n",
    "    Loads the digit dataset and plots the first 16 digits in one image\n",
    "    You are encouraged to implement this functions without\n",
    "    the use of any for-loops. A solution that does not use loops\n",
    "    calls plt.imshow once and does not use an unrolled loop.\n",
    "    \"\"\"\n",
    "    # YOUR CODE HERE\n",
    "    raise NotImplementedError(\"Replace this line with your code\")\n",
    "    # YOUR CODE HERE\n",
    "    "
   ]
  },
  {
   "cell_type": "code",
   "execution_count": null,
   "metadata": {
    "deletable": false,
    "editable": false,
    "nbgrader": {
     "cell_type": "code",
     "checksum": "cf9de5dfd4bf9cab1bfc3b7760a40435",
     "grade": true,
     "grade_id": "cell-e60559d8efeccccb",
     "locked": true,
     "points": 2,
     "schema_version": 3,
     "solution": false
    }
   },
   "outputs": [],
   "source": [
    "plot_first_digits()\n"
   ]
  },
  {
   "cell_type": "markdown",
   "metadata": {},
   "source": [
    "**b) 5P+2P**\n",
    "Now that we are somewhat familiar with the dataset we are working with, we want to use the k-nearest-neighbor classifier that we implemented above. For this we want to apply the following steps.\n",
    "\n",
    "* Partition the data into a \"training\" set and \"test\" set. The training set contains the first 1000 digits of `X`, and the test set contains the remaining ones. You will implement the `train_test_split` function for this task.\n",
    "\n",
    "* Implement the `predict` function which is a wrapper around the npbatch function. It receives the training data and labels as well as test data for which we want to get a prediction."
   ]
  },
  {
   "cell_type": "code",
   "execution_count": null,
   "metadata": {
    "deletable": false,
    "nbgrader": {
     "cell_type": "code",
     "checksum": "324d2959a27a520c4d8c660cf8624046",
     "grade": false,
     "grade_id": "cell-b112a1903fec8961",
     "locked": false,
     "schema_version": 3,
     "solution": true
    }
   },
   "outputs": [],
   "source": [
    "def train_test_split(x, y):\n",
    "    \"\"\"\n",
    "    Splits the data into train and test sets\n",
    "    The first 1000 samples belong to the training set the rest to the test set\n",
    "\n",
    "    Args:\n",
    "        x: A matrix (ndim=2) containing the data\n",
    "        y: A vector (ndim=1) containing the label for each datapoint\n",
    "\n",
    "    Returns:\n",
    "        A tuple containing 4 elements. The training data, the test data, the training labels\n",
    "        and the test labels\n",
    "    \"\"\"\n",
    "    # YOUR CODE HERE\n",
    "    raise NotImplementedError(\"Replace this line with your code\")\n",
    "    # YOUR CODE HERE\n",
    "    \n",
    "\n",
    "\n",
    "def predict(x_train, x_test, y_train):\n",
    "    \"\"\"\n",
    "    For each x in x_test this function finds the nearest neighbour in x_train and\n",
    "    returns that label\n",
    "\n",
    "    This function is a wrapper of the `npbatch` function\n",
    "\n",
    "    Args:\n",
    "        x_train: A matrix (ndim=2) containing all the training data\n",
    "        x_test: A matrix (ndim=2) containing all the test data for which we want a prediction\n",
    "        y_train: A vector (ndim=1) containing the label of each datapoint in the training set\n",
    "\n",
    "    Returns:\n",
    "        A vector with the prediction for each datapoint/vector in x_test\n",
    "    \"\"\"\n",
    "    # YOUR CODE HERE\n",
    "    raise NotImplementedError(\"Replace this line with your code\")\n",
    "    # YOUR CODE HERE\n",
    "    \n",
    "    return y_test_predict"
   ]
  },
  {
   "cell_type": "code",
   "execution_count": null,
   "metadata": {
    "deletable": false,
    "editable": false,
    "nbgrader": {
     "cell_type": "code",
     "checksum": "ef3e9bcc457264bc906a34182de7f9bf",
     "grade": true,
     "grade_id": "cell-7bb424481c1f04b4",
     "locked": true,
     "points": 5,
     "schema_version": 3,
     "solution": false
    }
   },
   "outputs": [],
   "source": [
    "# Test the train_test_split function\n",
    "train_test_output = train_test_split(X, Y)\n",
    "x_train, x_test, y_train, y_test = train_test_output\n",
    "\n",
    "# check if types match\n",
    "t.assertIsInstance(x_train, np.ndarray)\n",
    "t.assertIsInstance(x_test, np.ndarray)\n",
    "t.assertIsInstance(y_train, np.ndarray)\n",
    "t.assertIsInstance(y_test, np.ndarray)\n",
    "\n",
    "# check if shapes match\n",
    "t.assertEqual(x_train.shape, (1000, 64))\n",
    "t.assertEqual(x_test.shape, (797, 64))\n",
    "t.assertEqual(y_train.shape, (1000,))\n",
    "t.assertEqual(y_test.shape, (797,))\n",
    "\n",
    "# check that first values match\n",
    "t.assertEqual(y_train[0], 7)\n",
    "t.assertEqual(y_test[0], 0)\n",
    "\n"
   ]
  },
  {
   "cell_type": "code",
   "execution_count": null,
   "metadata": {
    "deletable": false,
    "editable": false,
    "nbgrader": {
     "cell_type": "code",
     "checksum": "a41ea189ca6ab449e12e2b1b713f3be2",
     "grade": true,
     "grade_id": "cell-e7dec773a1c3d6f9",
     "locked": true,
     "points": 0,
     "schema_version": 3,
     "solution": false,
     "task": false
    }
   },
   "outputs": [],
   "source": [
    "# This cell is for grading. DO NOT remove it"
   ]
  },
  {
   "cell_type": "code",
   "execution_count": null,
   "metadata": {
    "deletable": false,
    "editable": false,
    "nbgrader": {
     "cell_type": "code",
     "checksum": "2b2375e3dea31cc18e17cd2ca3133467",
     "grade": true,
     "grade_id": "cell-e345f7975db958d5",
     "locked": true,
     "points": 2,
     "schema_version": 3,
     "solution": false,
     "task": false
    }
   },
   "outputs": [],
   "source": [
    "# Test the predict function\n",
    "# check if prediction shape matches\n",
    "predictions = predict(x_train, x_test, y_train)\n",
    "t.assertEqual(predictions.shape, (797,))\n",
    "\n",
    "first_three = predictions[:3]\n",
    "print(f\"first_three --> {first_three.tolist()}\")\n",
    "\n",
    "expected_first_three = pybatch(x_test[:3], x_train, y_train)\n",
    "print(f\"expected_first_three --> {expected_first_three}\")\n",
    "\n",
    "np.testing.assert_allclose(first_three, expected_first_three)"
   ]
  },
  {
   "cell_type": "code",
   "execution_count": null,
   "metadata": {
    "deletable": false,
    "editable": false,
    "nbgrader": {
     "cell_type": "code",
     "checksum": "93ddc59bb32327ba9582e718b584595d",
     "grade": true,
     "grade_id": "cell-f2936755c2cdb9ca",
     "locked": true,
     "points": 0,
     "schema_version": 3,
     "solution": false,
     "task": false
    }
   },
   "outputs": [],
   "source": [
    "# This cell is for grading. DO NOT remove it"
   ]
  },
  {
   "cell_type": "markdown",
   "metadata": {},
   "source": [
    "**c) 8P** \n",
    "As a final step we want to gauge the accuracy of our classifier. We will therefore compare the predictions of our classifier on the test data with the ground truth (the labels of the test data).\n",
    "\n",
    "* Implement the `evaluate` function which returns the fraction (ratio) of the test set where the predictions of the nearest neighbor algorithm and labels disagree. "
   ]
  },
  {
   "cell_type": "code",
   "execution_count": null,
   "metadata": {
    "deletable": false,
    "nbgrader": {
     "cell_type": "code",
     "checksum": "1b9c72bad95d59ee33c33d8a8c174072",
     "grade": false,
     "grade_id": "cell-e1a0f7833241b127",
     "locked": false,
     "schema_version": 3,
     "solution": true
    }
   },
   "outputs": [],
   "source": [
    "def evaluate(x_train, x_test, y_train, y_test):\n",
    "    \"\"\"\n",
    "    Evaluates the accuracy of our nearest neighbor classifier\n",
    "    by calculating the ratio of test samples for which\n",
    "    our classification method disagrees with the ground truth\n",
    "\n",
    "    Args:\n",
    "        x_train: A matrix (ndim=2) containing the training data for the classifier\n",
    "        x_test: A matrix (ndim=2) containing the test data for which the classifier\n",
    "        will make a prediction\n",
    "        y_train: The labels for the training data\n",
    "        y_test: The labels for the test data\n",
    "    Returns:\n",
    "        float: The ratio in [0-1] of the test samples for which our\n",
    "        nearest neighbor classifier disagrees with the provided labels\n",
    "    \"\"\"\n",
    "    # YOUR CODE HERE\n",
    "    raise NotImplementedError(\"Replace this line with your code\")\n",
    "    # YOUR CODE HERE\n",
    "    "
   ]
  },
  {
   "cell_type": "code",
   "execution_count": null,
   "metadata": {
    "deletable": false,
    "editable": false,
    "nbgrader": {
     "cell_type": "code",
     "checksum": "61675f7918003ef3bc1c17a7467cb30c",
     "grade": true,
     "grade_id": "cell-2cf51ada3daa9bb6",
     "locked": true,
     "points": 8,
     "schema_version": 3,
     "solution": false
    }
   },
   "outputs": [],
   "source": [
    "x_train, x_test, y_train, y_test = train_test_split(X, Y)\n",
    "ratio_disagree = evaluate(x_train, x_test, y_train, y_test)\n",
    "print(f\"ratio_disagree --> {ratio_disagree}\")\n",
    "\n",
    "# make sure this is a percentage\n",
    "t.assertGreaterEqual(ratio_disagree, 0.0, \"A percentage cannot be less than 0\")\n",
    "t.assertLessEqual(ratio_disagree, 1.0, \"A percentage cannot be more that 1\")\n",
    "\n",
    "# Upper bound for disagree ratio\n",
    "t.assertLess(ratio_disagree, 0.009, \"Your solution should return less than 0.009\")\n",
    "t.assertGreater(ratio_disagree, 0.008, \"Your solution should return more that 0.008\")"
   ]
  }
 ],
 "metadata": {
  "kernelspec": {
   "display_name": "Python 3 (ipykernel)",
   "language": "python",
   "name": "python3"
  },
  "language_info": {
   "codemirror_mode": {
    "name": "ipython",
    "version": 3
   },
   "file_extension": ".py",
   "mimetype": "text/x-python",
   "name": "python",
   "nbconvert_exporter": "python",
   "pygments_lexer": "ipython3",
   "version": "3.11.3"
  }
 },
 "nbformat": 4,
 "nbformat_minor": 4
}
